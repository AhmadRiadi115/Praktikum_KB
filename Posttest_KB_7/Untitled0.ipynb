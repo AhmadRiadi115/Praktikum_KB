{
  "nbformat": 4,
  "nbformat_minor": 0,
  "metadata": {
    "colab": {
      "provenance": []
    },
    "kernelspec": {
      "name": "python3",
      "display_name": "Python 3"
    },
    "language_info": {
      "name": "python"
    }
  },
  "cells": [
    {
      "cell_type": "markdown",
      "source": [
        "# import package yang dibutuhkan"
      ],
      "metadata": {
        "id": "H9qMzSoJWMxf"
      }
    },
    {
      "cell_type": "code",
      "source": [
        "import tensorflow as tf\n",
        "import numpy as np"
      ],
      "metadata": {
        "id": "Gro0GIrsWUWg"
      },
      "execution_count": 1,
      "outputs": []
    },
    {
      "cell_type": "markdown",
      "source": [
        "# 1. Buatlah sebuah tensor dengan shape(5,5) dengan nilai random yang disimpan dalam variable random_tensor"
      ],
      "metadata": {
        "id": "S6yZUuf4WiuD"
      }
    },
    {
      "cell_type": "code",
      "source": [
        "random_tensor = tf.random.normal([5,5])\n",
        "random_tensor.numpy()"
      ],
      "metadata": {
        "colab": {
          "base_uri": "https://localhost:8080/"
        },
        "id": "t-UprUHnWlKB",
        "outputId": "8296b6a2-fef5-4acc-f3f8-588ca05e4f59"
      },
      "execution_count": 2,
      "outputs": [
        {
          "output_type": "execute_result",
          "data": {
            "text/plain": [
              "array([[-0.3084377 , -0.1759316 , -0.31479242,  0.44143963, -1.8813374 ],\n",
              "       [ 0.6806533 , -1.2121427 ,  0.24694769,  1.414203  ,  1.6754802 ],\n",
              "       [ 0.49114624,  0.29385492, -1.0513381 , -1.4578646 ,  0.48081514],\n",
              "       [ 0.30835485,  0.45044732,  0.54796386,  1.2633681 ,  1.6599778 ],\n",
              "       [-0.75085205, -0.5010813 , -0.02773517,  1.4331723 ,  0.5807809 ]],\n",
              "      dtype=float32)"
            ]
          },
          "metadata": {},
          "execution_count": 2
        }
      ]
    },
    {
      "cell_type": "markdown",
      "source": [
        "# 2. Buatlah sebuah tensor dengan shape(5,5) dari sebuah list dengan nilai bilangan prima dalam variable prime_tensor"
      ],
      "metadata": {
        "id": "eRHbZjlgXD4g"
      }
    },
    {
      "cell_type": "code",
      "source": [
        "list_prime = [[2, 3, 5, 7, 11],\n",
        "              [13, 17, 19, 23, 29],\n",
        "              [31, 37, 41, 43, 47],\n",
        "              [53, 59, 61, 71, 73],\n",
        "              [79, 83, 89, 97, 1]]\n",
        "\n",
        "prime_tensor = tf.constant(list_prime, dtype=tf.float32)\n",
        "prime_tensor.numpy()"
      ],
      "metadata": {
        "colab": {
          "base_uri": "https://localhost:8080/"
        },
        "id": "Gka13O86XNoL",
        "outputId": "2b0ece3a-6086-46d1-d654-087ddb395c4e"
      },
      "execution_count": 14,
      "outputs": [
        {
          "output_type": "execute_result",
          "data": {
            "text/plain": [
              "array([[ 2.,  3.,  5.,  7., 11.],\n",
              "       [13., 17., 19., 23., 29.],\n",
              "       [31., 37., 41., 43., 47.],\n",
              "       [53., 59., 61., 71., 73.],\n",
              "       [79., 83., 89., 97.,  1.]], dtype=float32)"
            ]
          },
          "metadata": {},
          "execution_count": 14
        }
      ]
    },
    {
      "cell_type": "markdown",
      "source": [
        "# 3. Tampilkan dimensi dari kedua variable tersebut"
      ],
      "metadata": {
        "id": "kdePeY7WXxr8"
      }
    },
    {
      "cell_type": "code",
      "source": [
        "print(\"Dimensi Random Tensor : \",random_tensor.shape)\n",
        "print(\"Dimensi Prime Tensor  : \",prime_tensor.shape)"
      ],
      "metadata": {
        "colab": {
          "base_uri": "https://localhost:8080/"
        },
        "id": "Wlqi1jBSX0YA",
        "outputId": "d9adc14f-cc73-41f5-fa62-09f88978124c"
      },
      "execution_count": 15,
      "outputs": [
        {
          "output_type": "stream",
          "name": "stdout",
          "text": [
            "Dimensi Random Tensor :  (5, 5)\n",
            "Dimensi Prime Tensor  :  (5, 5)\n"
          ]
        }
      ]
    },
    {
      "cell_type": "markdown",
      "source": [
        "# 4. perhitungan aritmetika 2 variable tersebut "
      ],
      "metadata": {
        "id": "sTd5UW09Yu-q"
      }
    },
    {
      "cell_type": "markdown",
      "source": [
        "## - Penjumlahan"
      ],
      "metadata": {
        "id": "ma55yWIOY9YL"
      }
    },
    {
      "cell_type": "code",
      "source": [
        "tf.add(prime_tensor,random_tensor)"
      ],
      "metadata": {
        "colab": {
          "base_uri": "https://localhost:8080/"
        },
        "id": "W2WtCsqsZA16",
        "outputId": "6dbaa79c-56ba-49f6-87a3-b2a96d6ee957"
      },
      "execution_count": 16,
      "outputs": [
        {
          "output_type": "execute_result",
          "data": {
            "text/plain": [
              "<tf.Tensor: shape=(5, 5), dtype=float32, numpy=\n",
              "array([[ 1.6915623,  2.8240683,  4.6852074,  7.4414396,  9.118663 ],\n",
              "       [13.680654 , 15.787857 , 19.246948 , 24.414204 , 30.67548  ],\n",
              "       [31.491146 , 37.293854 , 39.94866  , 41.542137 , 47.480816 ],\n",
              "       [53.308353 , 59.450447 , 61.547962 , 72.26337  , 74.65998  ],\n",
              "       [78.249146 , 82.49892  , 88.97227  , 98.433174 ,  1.580781 ]],\n",
              "      dtype=float32)>"
            ]
          },
          "metadata": {},
          "execution_count": 16
        }
      ]
    },
    {
      "cell_type": "markdown",
      "source": [
        "## - Pengurangan"
      ],
      "metadata": {
        "id": "2CAfLIOFZbNS"
      }
    },
    {
      "cell_type": "code",
      "source": [
        "tf.subtract(prime_tensor,random_tensor)"
      ],
      "metadata": {
        "colab": {
          "base_uri": "https://localhost:8080/"
        },
        "id": "8xxuiOl_Zfok",
        "outputId": "08c85e22-eb28-4318-cfc4-136444ac2d83"
      },
      "execution_count": 18,
      "outputs": [
        {
          "output_type": "execute_result",
          "data": {
            "text/plain": [
              "<tf.Tensor: shape=(5, 5), dtype=float32, numpy=\n",
              "array([[ 2.3084378 ,  3.1759317 ,  5.3147926 ,  6.5585604 , 12.881337  ],\n",
              "       [12.319346  , 18.212143  , 18.753052  , 21.585796  , 27.32452   ],\n",
              "       [30.508854  , 36.706146  , 42.05134   , 44.457863  , 46.519184  ],\n",
              "       [52.691647  , 58.549553  , 60.452038  , 69.73663   , 71.34002   ],\n",
              "       [79.750854  , 83.50108   , 89.02773   , 95.566826  ,  0.41921908]],\n",
              "      dtype=float32)>"
            ]
          },
          "metadata": {},
          "execution_count": 18
        }
      ]
    },
    {
      "cell_type": "markdown",
      "source": [
        "## - Perkalian"
      ],
      "metadata": {
        "id": "poP-HB9ZZum4"
      }
    },
    {
      "cell_type": "code",
      "source": [
        "tf.multiply(prime_tensor,random_tensor)"
      ],
      "metadata": {
        "colab": {
          "base_uri": "https://localhost:8080/"
        },
        "id": "hrUp9Bh9Z0LT",
        "outputId": "ec470b20-cfcd-4a42-af49-f454e78f2a65"
      },
      "execution_count": 19,
      "outputs": [
        {
          "output_type": "execute_result",
          "data": {
            "text/plain": [
              "<tf.Tensor: shape=(5, 5), dtype=float32, numpy=\n",
              "array([[ -0.6168754 ,  -0.52779484,  -1.5739621 ,   3.0900774 ,\n",
              "        -20.694712  ],\n",
              "       [  8.848493  , -20.606426  ,   4.692006  ,  32.52667   ,\n",
              "         48.58893   ],\n",
              "       [ 15.2255335 ,  10.872632  , -43.104862  , -62.68818   ,\n",
              "         22.598312  ],\n",
              "       [ 16.342808  ,  26.576391  ,  33.425797  ,  89.699135  ,\n",
              "        121.178375  ],\n",
              "       [-59.31731   , -41.58975   ,  -2.46843   , 139.01772   ,\n",
              "          0.5807809 ]], dtype=float32)>"
            ]
          },
          "metadata": {},
          "execution_count": 19
        }
      ]
    },
    {
      "cell_type": "markdown",
      "source": [
        "## - Pembagian"
      ],
      "metadata": {
        "id": "a4TPpsa_Z1H4"
      }
    },
    {
      "cell_type": "code",
      "source": [
        "tf.divide(prime_tensor,random_tensor)"
      ],
      "metadata": {
        "colab": {
          "base_uri": "https://localhost:8080/"
        },
        "id": "z9tBxHAOZ6GG",
        "outputId": "6eeb7c09-5882-4e8d-aadd-a97b4b98723d"
      },
      "execution_count": 20,
      "outputs": [
        {
          "output_type": "execute_result",
          "data": {
            "text/plain": [
              "<tf.Tensor: shape=(5, 5), dtype=float32, numpy=\n",
              "array([[-6.48429155e+00, -1.70520821e+01, -1.58834829e+01,\n",
              "         1.58572083e+01, -5.84690428e+00],\n",
              "       [ 1.90992985e+01, -1.40247517e+01,  7.69393692e+01,\n",
              "         1.62635765e+01,  1.73084698e+01],\n",
              "       [ 6.31176567e+01,  1.25912476e+02, -3.89979210e+01,\n",
              "        -2.94951935e+01,  9.77506638e+01],\n",
              "       [ 1.71879898e+02,  1.30980911e+02,  1.11321213e+02,\n",
              "         5.61989784e+01,  4.39764900e+01],\n",
              "       [-1.05213806e+02, -1.65641785e+02, -3.20892212e+03,\n",
              "         6.76820221e+01,  1.72181964e+00]], dtype=float32)>"
            ]
          },
          "metadata": {},
          "execution_count": 20
        }
      ]
    },
    {
      "cell_type": "markdown",
      "source": [
        "## - Pangkat"
      ],
      "metadata": {
        "id": "gOmwF7gIZ6u0"
      }
    },
    {
      "cell_type": "code",
      "source": [
        "tf.pow(prime_tensor,random_tensor)"
      ],
      "metadata": {
        "colab": {
          "base_uri": "https://localhost:8080/"
        },
        "id": "kDplA7yOZ9m-",
        "outputId": "e1e15ce5-acc6-4be6-9c68-032c4c19b417"
      },
      "execution_count": 21,
      "outputs": [
        {
          "output_type": "execute_result",
          "data": {
            "text/plain": [
              "<tf.Tensor: shape=(5, 5), dtype=float32, numpy=\n",
              "array([[8.0751574e-01, 8.2425064e-01, 6.0251731e-01, 2.3608031e+00,\n",
              "        1.0984720e-02],\n",
              "       [5.7307200e+00, 3.2249302e-02, 2.0691180e+00, 8.4286819e+01,\n",
              "        2.8198041e+02],\n",
              "       [5.4010310e+00, 2.8895073e+00, 2.0156676e-02, 4.1555078e-03,\n",
              "        6.3675151e+00],\n",
              "       [3.4016438e+00, 6.2758932e+00, 9.5125341e+00, 2.1818294e+02,\n",
              "        1.2390093e+03],\n",
              "       [3.7597831e-02, 1.0924105e-01, 8.8294435e-01, 7.0369800e+02,\n",
              "        1.0000000e+00]], dtype=float32)>"
            ]
          },
          "metadata": {},
          "execution_count": 21
        }
      ]
    },
    {
      "cell_type": "markdown",
      "source": [
        "# 5. Tampilkan nilai maksimal dan minimal dari variable random_tensor"
      ],
      "metadata": {
        "id": "Yr7EfZXfaLkf"
      }
    },
    {
      "cell_type": "code",
      "source": [
        "tf.argmax(random_tensor, axis=1).numpy()"
      ],
      "metadata": {
        "colab": {
          "base_uri": "https://localhost:8080/"
        },
        "id": "TI4UAlZ8aQ8L",
        "outputId": "41c7bffd-e014-45a5-9dd4-4f7bb713e8be"
      },
      "execution_count": 25,
      "outputs": [
        {
          "output_type": "execute_result",
          "data": {
            "text/plain": [
              "array([3, 4, 0, 4, 3])"
            ]
          },
          "metadata": {},
          "execution_count": 25
        }
      ]
    },
    {
      "cell_type": "code",
      "source": [
        "\n",
        "tf.argmin(random_tensor, axis=1). numpy() "
      ],
      "metadata": {
        "colab": {
          "base_uri": "https://localhost:8080/"
        },
        "id": "vec3hHbOancb",
        "outputId": "0278e6bc-fe22-49d1-adec-9a14580ea2c6"
      },
      "execution_count": 26,
      "outputs": [
        {
          "output_type": "execute_result",
          "data": {
            "text/plain": [
              "array([4, 1, 3, 0, 0])"
            ]
          },
          "metadata": {},
          "execution_count": 26
        }
      ]
    },
    {
      "cell_type": "code",
      "source": [
        "\n",
        "tf.argmax(random_tensor, axis=0). numpy()"
      ],
      "metadata": {
        "colab": {
          "base_uri": "https://localhost:8080/"
        },
        "id": "9aAh1Z9cbK81",
        "outputId": "fb8edbf1-559d-4912-f6ab-6809495c9b17"
      },
      "execution_count": 27,
      "outputs": [
        {
          "output_type": "execute_result",
          "data": {
            "text/plain": [
              "array([1, 3, 3, 4, 1])"
            ]
          },
          "metadata": {},
          "execution_count": 27
        }
      ]
    },
    {
      "cell_type": "code",
      "source": [
        "\n",
        "tf.argmin(random_tensor, axis=0). numpy()"
      ],
      "metadata": {
        "colab": {
          "base_uri": "https://localhost:8080/"
        },
        "id": "33vhRyHpbMp2",
        "outputId": "65e06ec2-3743-40f9-ae2a-ca47f4c42571"
      },
      "execution_count": 28,
      "outputs": [
        {
          "output_type": "execute_result",
          "data": {
            "text/plain": [
              "array([4, 1, 2, 2, 0])"
            ]
          },
          "metadata": {},
          "execution_count": 28
        }
      ]
    },
    {
      "cell_type": "markdown",
      "source": [
        "# 6.Tampilkan hasil dari penggabungan variable random_tensor dengan prime_tensor (concatenation)"
      ],
      "metadata": {
        "id": "1Y8itNiqbSlG"
      }
    },
    {
      "cell_type": "code",
      "source": [
        "tf.concat([random_tensor,prime_tensor], axis=0).numpy()#penggabungan baris"
      ],
      "metadata": {
        "colab": {
          "base_uri": "https://localhost:8080/"
        },
        "id": "_G7ptRZlbVIw",
        "outputId": "2bed7190-b961-4fe0-c12d-fadddf0c12ab"
      },
      "execution_count": 29,
      "outputs": [
        {
          "output_type": "execute_result",
          "data": {
            "text/plain": [
              "array([[-3.0843771e-01, -1.7593160e-01, -3.1479242e-01,  4.4143963e-01,\n",
              "        -1.8813374e+00],\n",
              "       [ 6.8065327e-01, -1.2121427e+00,  2.4694769e-01,  1.4142030e+00,\n",
              "         1.6754802e+00],\n",
              "       [ 4.9114624e-01,  2.9385492e-01, -1.0513381e+00, -1.4578646e+00,\n",
              "         4.8081514e-01],\n",
              "       [ 3.0835485e-01,  4.5044732e-01,  5.4796386e-01,  1.2633681e+00,\n",
              "         1.6599778e+00],\n",
              "       [-7.5085205e-01, -5.0108129e-01, -2.7735170e-02,  1.4331723e+00,\n",
              "         5.8078092e-01],\n",
              "       [ 2.0000000e+00,  3.0000000e+00,  5.0000000e+00,  7.0000000e+00,\n",
              "         1.1000000e+01],\n",
              "       [ 1.3000000e+01,  1.7000000e+01,  1.9000000e+01,  2.3000000e+01,\n",
              "         2.9000000e+01],\n",
              "       [ 3.1000000e+01,  3.7000000e+01,  4.1000000e+01,  4.3000000e+01,\n",
              "         4.7000000e+01],\n",
              "       [ 5.3000000e+01,  5.9000000e+01,  6.1000000e+01,  7.1000000e+01,\n",
              "         7.3000000e+01],\n",
              "       [ 7.9000000e+01,  8.3000000e+01,  8.9000000e+01,  9.7000000e+01,\n",
              "         1.0000000e+00]], dtype=float32)"
            ]
          },
          "metadata": {},
          "execution_count": 29
        }
      ]
    },
    {
      "cell_type": "markdown",
      "source": [
        "# 7.Tampilkan hasil sorting dari kedua variable di atas. (descending)"
      ],
      "metadata": {
        "id": "Bfb_bSUWbwak"
      }
    },
    {
      "cell_type": "code",
      "source": [
        "sort_random_tensor1 = tf.sort(random_tensor, direction=\"DESCENDING\")\n",
        "sort_random_tensor1.numpy()"
      ],
      "metadata": {
        "colab": {
          "base_uri": "https://localhost:8080/"
        },
        "id": "daEZ2XonbzQD",
        "outputId": "8ff23f14-a8d8-466f-ea0b-9924c4b3bfb4"
      },
      "execution_count": 30,
      "outputs": [
        {
          "output_type": "execute_result",
          "data": {
            "text/plain": [
              "array([[ 0.44143963, -0.1759316 , -0.3084377 , -0.31479242, -1.8813374 ],\n",
              "       [ 1.6754802 ,  1.414203  ,  0.6806533 ,  0.24694769, -1.2121427 ],\n",
              "       [ 0.49114624,  0.48081514,  0.29385492, -1.0513381 , -1.4578646 ],\n",
              "       [ 1.6599778 ,  1.2633681 ,  0.54796386,  0.45044732,  0.30835485],\n",
              "       [ 1.4331723 ,  0.5807809 , -0.02773517, -0.5010813 , -0.75085205]],\n",
              "      dtype=float32)"
            ]
          },
          "metadata": {},
          "execution_count": 30
        }
      ]
    },
    {
      "cell_type": "code",
      "source": [
        "sort_prime_tensor1 = tf.sort(prime_tensor, direction=\"DESCENDING\")\n",
        "sort_prime_tensor1.numpy()"
      ],
      "metadata": {
        "colab": {
          "base_uri": "https://localhost:8080/"
        },
        "id": "l56JAU_rcAxe",
        "outputId": "c09ca701-c87f-4618-e269-db0e5ca12c43"
      },
      "execution_count": 31,
      "outputs": [
        {
          "output_type": "execute_result",
          "data": {
            "text/plain": [
              "array([[11.,  7.,  5.,  3.,  2.],\n",
              "       [29., 23., 19., 17., 13.],\n",
              "       [47., 43., 41., 37., 31.],\n",
              "       [73., 71., 61., 59., 53.],\n",
              "       [97., 89., 83., 79.,  1.]], dtype=float32)"
            ]
          },
          "metadata": {},
          "execution_count": 31
        }
      ]
    },
    {
      "cell_type": "code",
      "source": [],
      "metadata": {
        "id": "yI6MVU7JcFPI"
      },
      "execution_count": null,
      "outputs": []
    }
  ]
}